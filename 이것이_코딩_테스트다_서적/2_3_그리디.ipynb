{
  "nbformat": 4,
  "nbformat_minor": 0,
  "metadata": {
    "colab": {
      "name": "2-3. 그리디.ipynb",
      "provenance": [],
      "collapsed_sections": [],
      "authorship_tag": "ABX9TyN8nHmw5ylJ23n/jkZz7UDj",
      "include_colab_link": true
    },
    "kernelspec": {
      "name": "python3",
      "display_name": "Python 3"
    },
    "language_info": {
      "name": "python"
    }
  },
  "cells": [
    {
      "cell_type": "markdown",
      "metadata": {
        "id": "view-in-github",
        "colab_type": "text"
      },
      "source": [
        "<a href=\"https://colab.research.google.com/github/ins2847/2021/blob/main/%EC%9D%B4%EA%B2%83%EC%9D%B4_%EC%BD%94%EB%94%A9_%ED%85%8C%EC%8A%A4%ED%8A%B8%EB%8B%A4_%EC%84%9C%EC%A0%81/2_3_%EA%B7%B8%EB%A6%AC%EB%94%94.ipynb\" target=\"_parent\"><img src=\"https://colab.research.google.com/assets/colab-badge.svg\" alt=\"Open In Colab\"/></a>"
      ]
    },
    {
      "cell_type": "markdown",
      "metadata": {
        "id": "NT6XSz2uaqrn"
      },
      "source": [
        "### 당장 좋은 것만 선택하는 그리디(탐욕법)\n",
        "\n",
        "'현재 상황에서 지금 당장 좋은 것만 고르는 방법'\n",
        "'사전에 외우고 있지 않아도 풀 수 있을 가능성이 높은 문제 유형'\n"
      ]
    },
    {
      "cell_type": "markdown",
      "metadata": {
        "id": "b_cx4WxNbXOq"
      },
      "source": [
        "### 예제 3-1 거스름돈"
      ]
    },
    {
      "cell_type": "code",
      "metadata": {
        "colab": {
          "base_uri": "https://localhost:8080/"
        },
        "id": "eVYQUFnHbXFk",
        "outputId": "990d24ce-99ad-4e76-e5e6-604b44a797e3"
      },
      "source": [
        "N=int(input())\n",
        "\n",
        "n1=N//500\n",
        "N-=500*n1\n",
        "\n",
        "n2=N//100\n",
        "N-=100*n2\n",
        "\n",
        "n3=N//50\n",
        "N-=50*n3\n",
        "\n",
        "n4=N//10\n",
        "N-=10*n4\n",
        "\n",
        "print(n1,n2,n3,n4,N)"
      ],
      "execution_count": null,
      "outputs": [
        {
          "output_type": "stream",
          "name": "stdout",
          "text": [
            "1260\n",
            "2 2 1 1 0\n"
          ]
        }
      ]
    },
    {
      "cell_type": "markdown",
      "metadata": {
        "id": "v3tliqinznwa"
      },
      "source": [
        "#### 답"
      ]
    },
    {
      "cell_type": "code",
      "metadata": {
        "id": "QQd5eUXmgzkK"
      },
      "source": [
        "n=1260\n",
        "count=0\n",
        "\n",
        "list=[500,100,50,10]\n",
        "\n",
        "for coin in list:\n",
        "  count+=n//coin\n",
        "  n%=coin\n",
        "\n",
        "print(count)"
      ],
      "execution_count": null,
      "outputs": []
    },
    {
      "cell_type": "markdown",
      "metadata": {
        "id": "TclxwuPWzrp5"
      },
      "source": [
        "##그리디 알고리즘의 정당성\n",
        "\n",
        "###### 대부분의 그리디 알고리즘 문제에서는 이처럼 문제 풀이를 위한 최소한의 아이디어를 떠올리고 이것이 정당한지 검토할 수 있어야 답을 도출할 수 있다.\n",
        "\n",
        "그리디 알고리즘으로 해결할 수 없다면 이후에 다이나믹 프로그래밍, 그래프 알고리즘으로 해결방법 찾아보기\n"
      ]
    },
    {
      "cell_type": "markdown",
      "metadata": {
        "id": "AUNBkuJUgzb6"
      },
      "source": [
        "### 예제 3-2 큰 수의 법칙"
      ]
    },
    {
      "cell_type": "code",
      "metadata": {
        "colab": {
          "base_uri": "https://localhost:8080/"
        },
        "id": "BC2c3FNygzU4",
        "outputId": "df243529-b78c-487d-df96-9cd257530a8e"
      },
      "source": [
        "#N : 배열의 크기\n",
        "#M : 숫자가 더해지는 횟수\n",
        "#K : 더해질 수 있는 최대 횟수\n",
        "N,M,K=map(int,input().split())\n",
        "S=list(map(int,input().split()))\n",
        "S.sort(reverse=True)\n",
        "\n",
        "T=0\n",
        "k=1\n",
        "for i in range(M):\n",
        "  if k<=K:\n",
        "    T+=S[0]\n",
        "    k+=1\n",
        "  else:\n",
        "    T+=S[1]\n",
        "    k=1\n",
        "   \n",
        "print(T)\n"
      ],
      "execution_count": null,
      "outputs": [
        {
          "output_type": "stream",
          "name": "stdout",
          "text": [
            "5 8 3\n",
            "2 4 5 4 6\n",
            "46\n"
          ]
        }
      ]
    },
    {
      "cell_type": "markdown",
      "metadata": {
        "id": "Sy-9oI0agzNq"
      },
      "source": [
        "위와 같은 문제를 풀려면 가장 먼저 반복되는 수열에 대해서 파악해야 한다.\n",
        " 가장 큰수와 두 번째로 큰수가 더해질 때는 특정한 수열 형태로 일정하게 반복해서 더해지는 특징이 있다.\n"
      ]
    },
    {
      "cell_type": "markdown",
      "metadata": {
        "id": "E3qBZDuAgzE6"
      },
      "source": [
        "#### 수열로 풀기"
      ]
    },
    {
      "cell_type": "code",
      "metadata": {
        "colab": {
          "base_uri": "https://localhost:8080/"
        },
        "id": "aTI4jpi4gy74",
        "outputId": "71c2718b-a858-4afe-9058-a5083c8f17d2"
      },
      "source": [
        "#N : 배열의 크기(입력갯수)\n",
        "#M : 숫자가 더해지는 횟수\n",
        "#K : 더해질 수 있는 최대 횟수\n",
        "\n",
        "N,M,K=map(int,input().split())\n",
        "S=list(map(int,input().split()))\n",
        "S.sort(reverse=True)\n",
        "term = (S[0]*K) + S[1]\n",
        "T = term*(M//(K+1))+S[0]*M%(K+1)\n",
        "print(T)"
      ],
      "execution_count": null,
      "outputs": [
        {
          "output_type": "stream",
          "name": "stdout",
          "text": [
            "5 8 3\n",
            "2 4 5 4 6\n",
            "46\n"
          ]
        }
      ]
    },
    {
      "cell_type": "markdown",
      "metadata": {
        "id": "0oKtgLfsbWjR"
      },
      "source": [
        "## 예제 3-3 숫자 카드 게임"
      ]
    },
    {
      "cell_type": "code",
      "metadata": {
        "colab": {
          "base_uri": "https://localhost:8080/"
        },
        "id": "lzOk5w4aVGLT",
        "outputId": "31bbd914-7c81-4f4a-8d34-2ce548128b79"
      },
      "source": [
        "#입력받은 행중에 최소값을 뽑고 최소값들중에 최대값을 뽑음..\n",
        "N,M=map(int,input().split())\n",
        "t=[]\n",
        "\n",
        "for i in range(N):\n",
        "  d=list(map(int,input().split()))\n",
        "  t.append(min(d))\n",
        "t=max(t)\n",
        "print(t)  \n"
      ],
      "execution_count": null,
      "outputs": [
        {
          "output_type": "stream",
          "name": "stdout",
          "text": [
            "2 4\n",
            "7 3 1 8\n",
            "3 3 3 4\n",
            "3\n"
          ]
        }
      ]
    },
    {
      "cell_type": "markdown",
      "metadata": {
        "id": "KicWnmnsccKJ"
      },
      "source": [
        "## 예제 3-4 1이 될 때 까지"
      ]
    },
    {
      "cell_type": "code",
      "metadata": {
        "colab": {
          "base_uri": "https://localhost:8080/"
        },
        "id": "ll5fwf1xccA6",
        "outputId": "39359e6b-6a1a-414d-9d0d-b985e2546d6d"
      },
      "source": [
        "N,M=map(int,input().split())\n",
        "i=0\n",
        "while ( N!=1 ):\n",
        "  if N%M==0:\n",
        "    N=N//M\n",
        "    i+=1\n",
        "  else:\n",
        "    N-=1\n",
        "    i+=1\n",
        "print(i)\n"
      ],
      "execution_count": null,
      "outputs": [
        {
          "output_type": "stream",
          "name": "stdout",
          "text": [
            "17 4\n",
            "3\n"
          ]
        }
      ]
    },
    {
      "cell_type": "markdown",
      "metadata": {
        "id": "Wc2gAfyluscq"
      },
      "source": [
        "# CH4 아이디어를 코드로 바꾸는 구현"
      ]
    },
    {
      "cell_type": "markdown",
      "metadata": {
        "id": "IenZaBD1usSq"
      },
      "source": [
        "#### 완전 탐색 모든 경우의 수를 주저 없이 다 계산하는 해결 방법\n",
        "\n",
        "#### 시뮬레이션 문제에서 제시한 알고리즘을 한 단게씩 차례대로 직접 수행"
      ]
    },
    {
      "cell_type": "markdown",
      "metadata": {
        "id": "Aj8jiyC4urNC"
      },
      "source": [
        "## 파이썬에서 리스트 크기\n",
        "\n",
        "코딩 테스트에서는 128~512MB로 메모리 제한 수백만 개 이상의 데이터를 처리해야 하는 문제가 있을 수 있고 메모리 제한을 염두 해야한다.\n",
        "\n",
        "1,000 - 약 4kb\n",
        "1,000,000 - 약 4mb\n",
        "1,000,000,000 -약 40mb\n",
        "\n",
        "리스트 크기가 1,000,000만 이상인 리스트가 있으면 메모리 용량 제한으로 문제를 풀 수 없게 되는 경우도 있다.\n"
      ]
    },
    {
      "cell_type": "markdown",
      "metadata": {
        "id": "ByY9RpmpurEK"
      },
      "source": [
        "### 예제 4-1 상하좌우"
      ]
    },
    {
      "cell_type": "code",
      "metadata": {
        "colab": {
          "base_uri": "https://localhost:8080/"
        },
        "id": "8TgWGM-Xuq8C",
        "outputId": "49202c31-3617-4830-940c-033baea2157a"
      },
      "source": [
        "N=int(input())\n",
        "A=list(map(str,input().split()))\n",
        "\n",
        "x=1\n",
        "y=1\n",
        "\n",
        "for i in A:\n",
        "  if i==\"R\":\n",
        "    x+=1    \n",
        "  if i==\"L\":\n",
        "    x-=1    \n",
        "  if i==\"U\":\n",
        "    y-=1    \n",
        "  if i==\"D\":\n",
        "    y+=1\n",
        "  \n",
        "  if x<=0:\n",
        "    x=1\n",
        "  if x>N:\n",
        "    x=N    \n",
        "  if y<=0:\n",
        "    y=1\n",
        "  if y>N:\n",
        "    y=N\n",
        "  \n",
        "print(y,x)"
      ],
      "execution_count": null,
      "outputs": [
        {
          "output_type": "stream",
          "name": "stdout",
          "text": [
            "5\n",
            "R R R U D D\n",
            "3 4\n"
          ]
        }
      ]
    },
    {
      "cell_type": "markdown",
      "metadata": {
        "id": "OGqaqVwbH2I6"
      },
      "source": [
        "## 예제 4-2 시각"
      ]
    },
    {
      "cell_type": "code",
      "metadata": {
        "colab": {
          "base_uri": "https://localhost:8080/"
        },
        "id": "TBbO6Y9g3vYL",
        "outputId": "0cdc0252-3e9a-4ccb-9f08-1255fbcb206e"
      },
      "source": [
        "n=int(input(0))\n",
        "count=0\n",
        "for h in range(0,n+1):\n",
        "  for m in range(0,60):\n",
        "    for s in range(0,60):\n",
        "      if ((str(n) in str(h)) or \n",
        "          (str(n) in str(m)) or \n",
        "          (str(n) in str(s))\n",
        "          ):\n",
        "        count+=1\n",
        "print(count)\n",
        "\n"
      ],
      "execution_count": null,
      "outputs": [
        {
          "output_type": "stream",
          "name": "stdout",
          "text": [
            "5\n",
            "11475\n"
          ]
        }
      ]
    },
    {
      "cell_type": "code",
      "metadata": {
        "colab": {
          "base_uri": "https://localhost:8080/"
        },
        "id": "DAcqFy_juqzq",
        "outputId": "59964fa9-2dd2-46f9-e552-9da2388db9ca"
      },
      "source": [
        "#답지\n",
        "\n",
        "h=int(input())\n",
        "\n",
        "count=0\n",
        "\n",
        "for i in range(h+1):\n",
        "  for j in range(60):\n",
        "    for k in range(60):\n",
        "      if '3' in str(i)+str(j)+str(k):\n",
        "        count+=1"
      ],
      "execution_count": null,
      "outputs": [
        {
          "output_type": "execute_result",
          "data": {
            "text/plain": [
              "True"
            ]
          },
          "metadata": {},
          "execution_count": 130
        }
      ]
    },
    {
      "cell_type": "markdown",
      "metadata": {
        "id": "F2o0BFPJVgma"
      },
      "source": [
        "## 4-2 왕실의 나이트\n"
      ]
    },
    {
      "cell_type": "code",
      "metadata": {
        "colab": {
          "base_uri": "https://localhost:8080/"
        },
        "id": "beMnQZ0jVgbZ",
        "outputId": "59e69ba3-dac1-4e9c-bd93-0a5653914365"
      },
      "source": [
        "l=input()\n",
        "\n",
        "x='abcdefgh'.find(str(l[0]))+1\n",
        "\n",
        "y=int(l[1])\n",
        "d=8\n",
        "for i in [2,-2,1,-1]:\n",
        "  for j in [2,-2,1,-1]:\n",
        "    x+=i\n",
        "    y+=j\n",
        "    if ((x or y)<1 or (x or y) >8) :\n",
        "      d-=1\n",
        "    x-=i\n",
        "    y-=j\n",
        "print(d)\n",
        "    \n",
        "\n"
      ],
      "execution_count": null,
      "outputs": [
        {
          "output_type": "stream",
          "name": "stdout",
          "text": [
            "c4\n",
            "8\n"
          ]
        }
      ]
    },
    {
      "cell_type": "markdown",
      "metadata": {
        "id": "L0WYbFVCM8HL"
      },
      "source": [
        "## 4-3 게임 개발"
      ]
    },
    {
      "cell_type": "code",
      "metadata": {
        "colab": {
          "base_uri": "https://localhost:8080/",
          "height": 262
        },
        "id": "At4X7Ck4VgUi",
        "outputId": "6ffeaedf-5fb3-4ae2-a475-cec3c9ae3d31"
      },
      "source": [
        "import time\n",
        "import datetime\n",
        "N, M=map(int,input().split())\n",
        "A,B,d=map(int,input().split())\n",
        "\n",
        "\n",
        "st=time.time()\n",
        "Map=[]\n",
        "for j in range(N):\n",
        "  Map.append(list(map(int,input().split())))\n",
        "y_p=A\n",
        "x_p=B\n",
        "\n",
        "\n",
        "path=[]\n",
        "d_l=[0,3,2,1];dp=0\n",
        "count=1\n",
        "\n",
        "##반복문시작 continue의 활용해보기\n",
        "while (True) :\n",
        " \n",
        "  path.append((x_p,y_p))\n",
        "\n",
        "  #가본적이 있는 좌표(정지규칙)\n",
        "  #4방향 다 가보거나 4방향 모두 바다로 되어있는 경우 방향을 유지하고 뒤로 간다.\n",
        "  if ( (((x_p+1,y_p) in path) or (Map[y_p][x_p+1]==1)) and (((x_p-1,y_p) in path) or Map[y_p][x_p-1]==1) and (((x_p,y_p+1) in path) or Map[y_p+1][x_p]==1) and (((x_p,y_p-1) in path) or Map[y_p-1][x_p]==1) ):\n",
        "   \n",
        "    if d==0 :\n",
        "      y_p+=1\n",
        "    if d==1 :\n",
        "      x_p-=1\n",
        "    if d==2 :\n",
        "      y_p-=1\n",
        "    if d==3 :\n",
        "      x_p+=1\n",
        "    if (Map[y_p][x_p]==1 or y_p < 0 or y_p<0):\n",
        "      break\n",
        "\n",
        "  #방향 조정\n",
        "  while (True):\n",
        "        \n",
        "    y_p1,x_p1=0,0\n",
        " \n",
        "    if d==0 :\n",
        "      y_p1-=1\n",
        "    if d==1 :\n",
        "      x_p1+=1\n",
        "    if d==2 :\n",
        "      y_p1+=1\n",
        "    if d==3 :\n",
        "      x_p1-=1\n",
        "    \n",
        "    if ((x_p+x_p1,y_p+y_p1) in path) or (Map[y_p+y_p1][x_p+x_p1]==1):\n",
        "      dp+=1\n",
        "      d=d_l[dp%4]\n",
        "      continue\n",
        "    else:\n",
        "      break\n",
        "  \n",
        "  #보고있는 방향에 따른 전진 x,y\n",
        "  if d==0 :\n",
        "    y_p-=1\n",
        "    \n",
        "  if d==1 :\n",
        "    x_p+=1\n",
        "    \n",
        "  if d==2 :\n",
        "    y_p+=1\n",
        "    \n",
        "  if d==3 :\n",
        "    x_p-=1\n",
        "    \n",
        "  dp+=1\n",
        "  d=d_l[dp%4]\n",
        "    #왼쪽으로 방향 회전\n",
        "    \n",
        "print(len(path))\n",
        "\n",
        "\n",
        "runtime=time.time()-st\n",
        "time_pretty1=str(datetime.timedelta(seconds=runtime)).split('.')[0]\n",
        "print(time_pretty1)\n"
      ],
      "execution_count": null,
      "outputs": [
        {
          "name": "stdout",
          "output_type": "stream",
          "text": [
            "4 4\n"
          ]
        },
        {
          "output_type": "error",
          "ename": "TypeError",
          "evalue": "ignored",
          "traceback": [
            "\u001b[0;31m---------------------------------------------------------------------------\u001b[0m",
            "\u001b[0;31mTypeError\u001b[0m                                 Traceback (most recent call last)",
            "\u001b[0;32m<ipython-input-157-4248a2bac2fb>\u001b[0m in \u001b[0;36m<module>\u001b[0;34m()\u001b[0m\n\u001b[1;32m      1\u001b[0m \u001b[0;32mimport\u001b[0m \u001b[0mtime\u001b[0m\u001b[0;34m\u001b[0m\u001b[0;34m\u001b[0m\u001b[0m\n\u001b[1;32m      2\u001b[0m \u001b[0;32mimport\u001b[0m \u001b[0mdatetime\u001b[0m\u001b[0;34m\u001b[0m\u001b[0;34m\u001b[0m\u001b[0m\n\u001b[0;32m----> 3\u001b[0;31m \u001b[0mN\u001b[0m\u001b[0;34m,\u001b[0m \u001b[0mM\u001b[0m\u001b[0;34m=\u001b[0m\u001b[0mmap\u001b[0m\u001b[0;34m(\u001b[0m\u001b[0mint\u001b[0m\u001b[0;34m,\u001b[0m\u001b[0minput\u001b[0m\u001b[0;34m(\u001b[0m\u001b[0;34m)\u001b[0m\u001b[0;34m.\u001b[0m\u001b[0msplit\u001b[0m\u001b[0;34m(\u001b[0m\u001b[0;34m)\u001b[0m\u001b[0;34m)\u001b[0m\u001b[0;34m\u001b[0m\u001b[0;34m\u001b[0m\u001b[0m\n\u001b[0m\u001b[1;32m      4\u001b[0m \u001b[0mA\u001b[0m\u001b[0;34m,\u001b[0m\u001b[0mB\u001b[0m\u001b[0;34m,\u001b[0m\u001b[0md\u001b[0m\u001b[0;34m=\u001b[0m\u001b[0mmap\u001b[0m\u001b[0;34m(\u001b[0m\u001b[0mint\u001b[0m\u001b[0;34m,\u001b[0m\u001b[0minput\u001b[0m\u001b[0;34m(\u001b[0m\u001b[0;34m)\u001b[0m\u001b[0;34m.\u001b[0m\u001b[0msplit\u001b[0m\u001b[0;34m(\u001b[0m\u001b[0;34m)\u001b[0m\u001b[0;34m)\u001b[0m\u001b[0;34m\u001b[0m\u001b[0;34m\u001b[0m\u001b[0m\n\u001b[1;32m      5\u001b[0m \u001b[0;34m\u001b[0m\u001b[0m\n",
            "\u001b[0;31mTypeError\u001b[0m: 'list' object is not callable"
          ]
        }
      ]
    },
    {
      "cell_type": "code",
      "metadata": {
        "colab": {
          "base_uri": "https://localhost:8080/"
        },
        "id": "GL9tWfLnEVt7",
        "outputId": "c748f32a-1959-40fa-8dd7-d0f4be337cf1"
      },
      "source": [
        "import time\n",
        "import datetime\n",
        "n, m=map(int,input().split())\n",
        "x,y,direction=map(int,input().split())\n",
        "\n",
        "array=[]\n",
        "for i in range(n):\n",
        "  array.append(list(map(int,input().split())))\n",
        "\n",
        "d=[[0]*m for _ in range(n)] \n"
      ],
      "execution_count": 1,
      "outputs": [
        {
          "name": "stdout",
          "output_type": "stream",
          "text": [
            "4 4\n",
            "1 1 0\n",
            "1 1 1 1\n",
            "1 0 0 1\n",
            "1 1 0 1\n",
            "1 1 1 1\n"
          ]
        }
      ]
    },
    {
      "cell_type": "code",
      "metadata": {
        "id": "CDNO6GRWt7m7"
      },
      "source": [
        "d[x][y]=1"
      ],
      "execution_count": 2,
      "outputs": []
    },
    {
      "cell_type": "code",
      "metadata": {
        "id": "-H3OZqTfWw0C"
      },
      "source": [
        "dx=[-1,0,1,0]\n",
        "dy=[0,-1,0,1]"
      ],
      "execution_count": 3,
      "outputs": []
    },
    {
      "cell_type": "code",
      "metadata": {
        "id": "5kKGxnLeLsXa"
      },
      "source": [
        "def turn_left():\n",
        "  global direction\n",
        "  direction+=1\n",
        "  if direction==4:\n",
        "    direction=0"
      ],
      "execution_count": 4,
      "outputs": []
    },
    {
      "cell_type": "code",
      "metadata": {
        "colab": {
          "base_uri": "https://localhost:8080/"
        },
        "id": "1x2O7qB4r8FZ",
        "outputId": "8713870e-9fb5-4fcd-e919-ec400c5aa0f1"
      },
      "source": [
        "##시뮬레이션 시작\n",
        "st=time.time()\n",
        "count=1\n",
        "turn_time=0\n",
        "\n",
        "while True:\n",
        "  \n",
        "  turn_left()\n",
        "  nx=x+dx[direction]\n",
        "  ny=y+dy[direction]\n",
        "\n",
        "  #가보지 않거나, 바다가 아닌경우 한칸 앞으로 전진\n",
        "  if d[nx][ny]==0 and array[nx][ny]==0:\n",
        "    d[nx][ny]=1\n",
        "    x=nx\n",
        "    y=ny\n",
        "\n",
        "    count+=1\n",
        "    turn_time=0\n",
        "    continue\n",
        "  else:\n",
        "    turn_time+=1\n",
        "\n",
        "  if turn_time==4:\n",
        "\n",
        "    nx=x-dx[direction]\n",
        "    ny=y-dy[direction]\n",
        "\n",
        "    if array[nx][ny]==0:\n",
        "      x=nx\n",
        "      y=ny\n",
        "    else:\n",
        "      break\n",
        "    turn_time=0\n",
        "print(count)\n",
        "\n",
        "    \n",
        "runtime=time.time()-st\n",
        "time_pretty1=str(datetime.timedelta(seconds=runtime)).split('.')[0]\n",
        "print(time_pretty1)\n",
        "\n",
        "\n",
        "\n"
      ],
      "execution_count": 5,
      "outputs": [
        {
          "output_type": "stream",
          "name": "stdout",
          "text": [
            "3\n",
            "0:00:00\n"
          ]
        }
      ]
    },
    {
      "cell_type": "code",
      "metadata": {
        "colab": {
          "base_uri": "https://localhost:8080/"
        },
        "id": "b7ZQ0t_Wr7-B",
        "outputId": "1b148aae-59f1-49b4-ea96-6b6ab4612f4b"
      },
      "source": [
        ""
      ],
      "execution_count": 6,
      "outputs": [
        {
          "output_type": "execute_result",
          "data": {
            "text/plain": [
              "0.0013175010681152344"
            ]
          },
          "metadata": {},
          "execution_count": 6
        }
      ]
    },
    {
      "cell_type": "code",
      "metadata": {
        "colab": {
          "base_uri": "https://localhost:8080/"
        },
        "id": "j9Yj8w_ir73K",
        "outputId": "1812ad95-4efa-42b1-9fe5-96e039403ee0"
      },
      "source": [
        "N,M=map(int,input().split())\n",
        "x,y,direction=map(int,input().split())1"
      ],
      "execution_count": 20,
      "outputs": [
        {
          "name": "stdout",
          "output_type": "stream",
          "text": [
            "4 4\n",
            "1 1 0\n"
          ]
        }
      ]
    },
    {
      "cell_type": "code",
      "metadata": {
        "colab": {
          "base_uri": "https://localhost:8080/"
        },
        "id": "938ZMlmQr7eY",
        "outputId": "04e00efc-9a9b-4d32-9755-79954d481d11"
      },
      "source": [
        "dx=[-1,0,1,0]\n",
        "dy=[0,-1,0,1]\n",
        "Map=[]\n",
        "for i in range (N):\n",
        "  Map.append(list(map(int,input().split())))\n",
        "1\n"
      ],
      "execution_count": 21,
      "outputs": [
        {
          "name": "stdout",
          "output_type": "stream",
          "text": [
            "1 1 1 1\n",
            "1 0 0 1\n",
            "1 1 0 1\n",
            "1 1 1 1\n"
          ]
        }
      ]
    },
    {
      "cell_type": "code",
      "metadata": {
        "id": "QnSvlGpZq5M6"
      },
      "source": [
        "d=[[0]*M for _ in range(N)]\n",
        "d[x][y]=1\n",
        "\n",
        "def turn_left():\n",
        "  global direction\n",
        "  direction+=1\n",
        "  if direction==4:\n",
        "    direction=0\n",
        "\n"
      ],
      "execution_count": 34,
      "outputs": []
    },
    {
      "cell_type": "code",
      "metadata": {
        "colab": {
          "base_uri": "https://localhost:8080/"
        },
        "id": "0ZzkpjNnz-OM",
        "outputId": "a980555a-ba21-48fe-c8d8-8bd4958c2ccd"
      },
      "source": [
        "d"
      ],
      "execution_count": 35,
      "outputs": [
        {
          "output_type": "execute_result",
          "data": {
            "text/plain": [
              "[[0, 0, 0, 0], [0, 1, 0, 0], [0, 0, 0, 0], [0, 0, 0, 0]]"
            ]
          },
          "metadata": {},
          "execution_count": 35
        }
      ]
    },
    {
      "cell_type": "code",
      "metadata": {
        "id": "MEaJGLiLq5RP"
      },
      "source": [
        "count=1\n",
        "trun_count=0"
      ],
      "execution_count": 36,
      "outputs": []
    },
    {
      "cell_type": "code",
      "metadata": {
        "colab": {
          "base_uri": "https://localhost:8080/"
        },
        "id": "6Z5VgLACs6Yi",
        "outputId": "768f5f4c-db95-4388-e4b9-c349f0dd813a"
      },
      "source": [
        "while(True):\n",
        "  turn_left()\n",
        "\n",
        "  nx=x+dx[direction]\n",
        "  ny=y+dy[direction]\n",
        "\n",
        "  if Map[nx][ny]==0 and d[nx][ny]==0 :\n",
        "    d[nx][ny]=1\n",
        "    x=nx\n",
        "    y=ny\n",
        "    turn_count=0\n",
        "    count+=1\n",
        "    continue\n",
        "  else:\n",
        "    turn_count+=1\n",
        "      \n",
        "  if turn_count==4:\n",
        "    nx=x-dx[direction]\n",
        "    ny=y-dy[direction]\n",
        "    \n",
        "    if Map[nx][ny]==0:\n",
        "      x=nx\n",
        "      y=ny\n",
        "    else:\n",
        "      break\n",
        "\n",
        "    turn_count=0\n",
        "\n",
        "print(count)\n",
        "\n",
        "\n"
      ],
      "execution_count": 37,
      "outputs": [
        {
          "output_type": "stream",
          "name": "stdout",
          "text": [
            "3\n"
          ]
        }
      ]
    },
    {
      "cell_type": "code",
      "metadata": {
        "id": "1Buqm9oLs6id"
      },
      "source": [
        ""
      ],
      "execution_count": null,
      "outputs": []
    },
    {
      "cell_type": "code",
      "metadata": {
        "id": "VT_yoKFAs6kj"
      },
      "source": [
        ""
      ],
      "execution_count": null,
      "outputs": []
    },
    {
      "cell_type": "code",
      "metadata": {
        "id": "Bhu5Jv9As6m0"
      },
      "source": [
        ""
      ],
      "execution_count": null,
      "outputs": []
    },
    {
      "cell_type": "code",
      "metadata": {
        "id": "5Tm0Ug3Ns6o8"
      },
      "source": [
        ""
      ],
      "execution_count": null,
      "outputs": []
    }
  ]
}