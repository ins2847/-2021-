{
  "nbformat": 4,
  "nbformat_minor": 0,
  "metadata": {
    "colab": {
      "name": "math_symbol_prac.ipynb",
      "provenance": [],
      "collapsed_sections": []
    },
    "kernelspec": {
      "name": "python3",
      "display_name": "Python 3"
    },
    "language_info": {
      "name": "python"
    }
  },
  "cells": [
    {
      "cell_type": "markdown",
      "metadata": {
        "id": "UQqmtnkQICEc"
      },
      "source": [
        "## 수학 기호 연습\n",
        "\n",
        "수식 기호들을 집어 넣는 연습을 해봅시다.\n",
        "\n",
        "$\\theta=1$ $1 \\le 5 $\n",
        "\n",
        "$\\sum_{i=1}^{n} i^2$"
      ]
    },
    {
      "cell_type": "markdown",
      "metadata": {
        "id": "liypIbe3ICAY"
      },
      "source": [
        "$$\n",
        "\\sum_{i=1}^{n} \\frac{1}{n}\n",
        "$$"
      ]
    },
    {
      "cell_type": "code",
      "metadata": {
        "id": "pgYXSrpSIB8U"
      },
      "source": [
        ""
      ],
      "execution_count": null,
      "outputs": []
    },
    {
      "cell_type": "code",
      "metadata": {
        "id": "QSuyCAwQIB3k"
      },
      "source": [
        ""
      ],
      "execution_count": null,
      "outputs": []
    },
    {
      "cell_type": "code",
      "metadata": {
        "id": "7kCDtphLIByb"
      },
      "source": [
        ""
      ],
      "execution_count": null,
      "outputs": []
    },
    {
      "cell_type": "code",
      "metadata": {
        "id": "p_eWwpWMIBq8"
      },
      "source": [
        ""
      ],
      "execution_count": null,
      "outputs": []
    },
    {
      "cell_type": "code",
      "metadata": {
        "id": "ciwH1B83IBhV"
      },
      "source": [
        ""
      ],
      "execution_count": null,
      "outputs": []
    },
    {
      "cell_type": "markdown",
      "metadata": {
        "id": "4c5TESySBcaZ"
      },
      "source": [
        ""
      ]
    }
  ]
}