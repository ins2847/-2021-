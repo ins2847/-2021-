{
  "nbformat": 4,
  "nbformat_minor": 0,
  "metadata": {
    "colab": {
      "name": "R_prac.ipynb의 사본",
      "provenance": [],
      "collapsed_sections": [],
      "include_colab_link": true
    },
    "kernelspec": {
      "name": "ir",
      "display_name": "R"
    },
    "language_info": {
      "name": "R"
    }
  },
  "cells": [
    {
      "cell_type": "markdown",
      "metadata": {
        "id": "view-in-github",
        "colab_type": "text"
      },
      "source": [
        "<a href=\"https://colab.research.google.com/github/ins2847/test-/blob/main/R_prac_ipynb%EC%9D%98_%EC%82%AC%EB%B3%B8.ipynb\" target=\"_parent\"><img src=\"https://colab.research.google.com/assets/colab-badge.svg\" alt=\"Open In Colab\"/></a>"
      ]
    },
    {
      "cell_type": "code",
      "metadata": {
        "colab": {
          "base_uri": "https://localhost:8080/"
        },
        "id": "TLHdX54Nj0VD",
        "outputId": "3746d7dc-e415-490d-8c44-a97c14c173dd"
      },
      "source": [
        "library(tidyverse)"
      ],
      "execution_count": 1,
      "outputs": [
        {
          "output_type": "stream",
          "name": "stderr",
          "text": [
            "Warning message in system(\"timedatectl\", intern = TRUE):\n",
            "“running command 'timedatectl' had status 1”\n",
            "── \u001b[1mAttaching packages\u001b[22m ─────────────────────────────────────── tidyverse 1.3.1 ──\n",
            "\n",
            "\u001b[32m✔\u001b[39m \u001b[34mggplot2\u001b[39m 3.3.5     \u001b[32m✔\u001b[39m \u001b[34mpurrr  \u001b[39m 0.3.4\n",
            "\u001b[32m✔\u001b[39m \u001b[34mtibble \u001b[39m 3.1.3     \u001b[32m✔\u001b[39m \u001b[34mdplyr  \u001b[39m 1.0.7\n",
            "\u001b[32m✔\u001b[39m \u001b[34mtidyr  \u001b[39m 1.1.3     \u001b[32m✔\u001b[39m \u001b[34mstringr\u001b[39m 1.4.0\n",
            "\u001b[32m✔\u001b[39m \u001b[34mreadr  \u001b[39m 2.0.1     \u001b[32m✔\u001b[39m \u001b[34mforcats\u001b[39m 0.5.1\n",
            "\n",
            "── \u001b[1mConflicts\u001b[22m ────────────────────────────────────────── tidyverse_conflicts() ──\n",
            "\u001b[31m✖\u001b[39m \u001b[34mdplyr\u001b[39m::\u001b[32mfilter()\u001b[39m masks \u001b[34mstats\u001b[39m::filter()\n",
            "\u001b[31m✖\u001b[39m \u001b[34mdplyr\u001b[39m::\u001b[32mlag()\u001b[39m    masks \u001b[34mstats\u001b[39m::lag()\n",
            "\n"
          ]
        }
      ]
    },
    {
      "cell_type": "code",
      "metadata": {
        "colab": {
          "base_uri": "https://localhost:8080/",
          "height": 34
        },
        "id": "UN8q5jf6kFwO",
        "outputId": "c3310cdb-f843-4e4f-f13b-20b49b81e23c"
      },
      "source": [
        "1+1"
      ],
      "execution_count": 2,
      "outputs": [
        {
          "output_type": "display_data",
          "data": {
            "text/plain": [
              "[1] 2"
            ],
            "text/latex": "2",
            "text/markdown": "2",
            "text/html": [
              "2"
            ]
          },
          "metadata": {}
        }
      ]
    },
    {
      "cell_type": "code",
      "metadata": {
        "id": "GC8K1HufkG2k"
      },
      "source": [
        "a=c(1,2,3,4)"
      ],
      "execution_count": 3,
      "outputs": []
    },
    {
      "cell_type": "markdown",
      "metadata": {
        "id": "OdcfaZpblehd"
      },
      "source": [
        "# Google Drive data file 연동\n",
        "\n",
        "[파일 권한 설정 필요]\n",
        "\n",
        "\n",
        "파일 우클릭>get link>-----file/d/ i------d/view\n",
        "id 부분 복사\n",
        "\n",
        "system(\"gdown --id i------d \")\n",
        "\n",
        "밑에 코드 예제 iris.csv\n"
      ]
    },
    {
      "cell_type": "code",
      "metadata": {
        "id": "iZb6iJOWkIqc"
      },
      "source": [
        "system(\"gdown --id 1QcooGGzINZJYdJz48fiRFuReGorNs06B\")"
      ],
      "execution_count": 8,
      "outputs": []
    },
    {
      "cell_type": "code",
      "metadata": {
        "id": "vExomK-ukIzV"
      },
      "source": [
        "data=read.csv(\"iris.csv\")"
      ],
      "execution_count": 9,
      "outputs": []
    },
    {
      "cell_type": "code",
      "metadata": {
        "id": "FGSDJ8E8kI1c",
        "colab": {
          "base_uri": "https://localhost:8080/",
          "height": 283
        },
        "outputId": "80dd538b-8539-48f8-abb6-a0c2382dc9a9"
      },
      "source": [
        "head(data)"
      ],
      "execution_count": 10,
      "outputs": [
        {
          "output_type": "display_data",
          "data": {
            "text/plain": [
              "  sepal.length sepal.width petal.length petal.width variety\n",
              "1 5.1          3.5         1.4          0.2         Setosa \n",
              "2 4.9          3.0         1.4          0.2         Setosa \n",
              "3 4.7          3.2         1.3          0.2         Setosa \n",
              "4 4.6          3.1         1.5          0.2         Setosa \n",
              "5 5.0          3.6         1.4          0.2         Setosa \n",
              "6 5.4          3.9         1.7          0.4         Setosa "
            ],
            "text/latex": "A data.frame: 6 × 5\n\\begin{tabular}{r|lllll}\n  & sepal.length & sepal.width & petal.length & petal.width & variety\\\\\n  & <dbl> & <dbl> & <dbl> & <dbl> & <chr>\\\\\n\\hline\n\t1 & 5.1 & 3.5 & 1.4 & 0.2 & Setosa\\\\\n\t2 & 4.9 & 3.0 & 1.4 & 0.2 & Setosa\\\\\n\t3 & 4.7 & 3.2 & 1.3 & 0.2 & Setosa\\\\\n\t4 & 4.6 & 3.1 & 1.5 & 0.2 & Setosa\\\\\n\t5 & 5.0 & 3.6 & 1.4 & 0.2 & Setosa\\\\\n\t6 & 5.4 & 3.9 & 1.7 & 0.4 & Setosa\\\\\n\\end{tabular}\n",
            "text/markdown": "\nA data.frame: 6 × 5\n\n| <!--/--> | sepal.length &lt;dbl&gt; | sepal.width &lt;dbl&gt; | petal.length &lt;dbl&gt; | petal.width &lt;dbl&gt; | variety &lt;chr&gt; |\n|---|---|---|---|---|---|\n| 1 | 5.1 | 3.5 | 1.4 | 0.2 | Setosa |\n| 2 | 4.9 | 3.0 | 1.4 | 0.2 | Setosa |\n| 3 | 4.7 | 3.2 | 1.3 | 0.2 | Setosa |\n| 4 | 4.6 | 3.1 | 1.5 | 0.2 | Setosa |\n| 5 | 5.0 | 3.6 | 1.4 | 0.2 | Setosa |\n| 6 | 5.4 | 3.9 | 1.7 | 0.4 | Setosa |\n\n",
            "text/html": [
              "<table class=\"dataframe\">\n",
              "<caption>A data.frame: 6 × 5</caption>\n",
              "<thead>\n",
              "\t<tr><th></th><th scope=col>sepal.length</th><th scope=col>sepal.width</th><th scope=col>petal.length</th><th scope=col>petal.width</th><th scope=col>variety</th></tr>\n",
              "\t<tr><th></th><th scope=col>&lt;dbl&gt;</th><th scope=col>&lt;dbl&gt;</th><th scope=col>&lt;dbl&gt;</th><th scope=col>&lt;dbl&gt;</th><th scope=col>&lt;chr&gt;</th></tr>\n",
              "</thead>\n",
              "<tbody>\n",
              "\t<tr><th scope=row>1</th><td>5.1</td><td>3.5</td><td>1.4</td><td>0.2</td><td>Setosa</td></tr>\n",
              "\t<tr><th scope=row>2</th><td>4.9</td><td>3.0</td><td>1.4</td><td>0.2</td><td>Setosa</td></tr>\n",
              "\t<tr><th scope=row>3</th><td>4.7</td><td>3.2</td><td>1.3</td><td>0.2</td><td>Setosa</td></tr>\n",
              "\t<tr><th scope=row>4</th><td>4.6</td><td>3.1</td><td>1.5</td><td>0.2</td><td>Setosa</td></tr>\n",
              "\t<tr><th scope=row>5</th><td>5.0</td><td>3.6</td><td>1.4</td><td>0.2</td><td>Setosa</td></tr>\n",
              "\t<tr><th scope=row>6</th><td>5.4</td><td>3.9</td><td>1.7</td><td>0.4</td><td>Setosa</td></tr>\n",
              "</tbody>\n",
              "</table>\n"
            ]
          },
          "metadata": {}
        }
      ]
    },
    {
      "cell_type": "code",
      "metadata": {
        "id": "0glpdSnakI3d"
      },
      "source": [
        ""
      ],
      "execution_count": null,
      "outputs": []
    }
  ]
}
